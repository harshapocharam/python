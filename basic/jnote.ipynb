{
 "cells": [
  {
   "cell_type": "markdown",
   "metadata": {},
   "source": [
    "object and data structure \r\n",
    "numbers "
   ]
  },
  {
   "cell_type": "code",
   "execution_count": 8,
   "metadata": {},
   "outputs": [
    {
     "data": {
      "text/plain": [
       "156"
      ]
     },
     "execution_count": 8,
     "metadata": {},
     "output_type": "execute_result"
    }
   ],
   "source": [
    "2+1\r\n",
    "2-1\r\n",
    "2*2\r\n",
    "3/2\r\n",
    "7%4\r\n",
    "23 % 2\r\n",
    "2**3\r\n",
    "(2+10)*(10+3)\r\n"
   ]
  },
  {
   "cell_type": "code",
   "execution_count": 15,
   "metadata": {},
   "outputs": [],
   "source": [
    "a = 5\r\n",
    "a\r\n",
    "a =10\r\n",
    "a"
   ]
  },
  {
   "cell_type": "markdown",
   "metadata": {},
   "source": []
  },
  {
   "cell_type": "code",
   "execution_count": 24,
   "metadata": {},
   "outputs": [
    {
     "data": {
      "text/plain": [
       "\"this is a jack's book\""
      ]
     },
     "execution_count": 24,
     "metadata": {},
     "output_type": "execute_result"
    }
   ],
   "source": [
    "#strings are order sequence we can use indexing or slicing. \r\n",
    "# indexing uses [] notation to point to location of the character\r\n",
    "# slicing allows us to grab subset of multiple characters uses [start:stop:step] to slice the variable\r\n",
    "a = \"hello\"\r\n",
    "a\r\n",
    "b = 'world'\r\n",
    "b\r\n",
    "print(\"\"\"this is a jack's book\"\"\")"
   ]
  },
  {
   "cell_type": "code",
   "execution_count": null,
   "metadata": {},
   "outputs": [],
   "source": []
  },
  {
   "cell_type": "code",
   "execution_count": null,
   "metadata": {},
   "outputs": [],
   "source": []
  }
 ],
 "metadata": {
  "interpreter": {
   "hash": "1108e07560c816db3f292dfdcdd2a77461e2626b1e081309fb4cec7b75e73e64"
  },
  "kernelspec": {
   "display_name": "Python 3.8.1 32-bit",
   "name": "python3"
  },
  "language_info": {
   "name": "python",
   "version": ""
  },
  "orig_nbformat": 4
 },
 "nbformat": 4,
 "nbformat_minor": 2
}